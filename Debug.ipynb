{
 "cells": [
  {
   "cell_type": "markdown",
   "id": "ca333670",
   "metadata": {},
   "source": [
    "# Optimal metrics on the space of rankings for Social Choice Theory"
   ]
  },
  {
   "cell_type": "markdown",
   "id": "7f94cbb1",
   "metadata": {},
   "source": [
    "### Francesco Colasanto & Davide Fabbrico"
   ]
  },
  {
   "cell_type": "markdown",
   "id": "d9596c22",
   "metadata": {},
   "source": [
    "The analysis of properties of Social Function is focal point of Social Choice Theory. In the Arrow's framework there is a group of individuals who has to choose among a set $\\{1,..., k\\} =: A_k$ of alternatives. Each individual gives his vote through a linear order on $A_k$. A Social Function takes as input an electoral profile and returns the winner alternatives. There is a large class of Social Functions that can be defined starting from a \"metric\" on the space of rankings $L(A_k)$ with alternatives $A_k$, for instance the Kemeny's Social Preference Function, the Score Social Choice Functions as the Plurality or the Borda's one. "
   ]
  },
  {
   "cell_type": "code",
   "execution_count": 35,
   "id": "db1d843a",
   "metadata": {},
   "outputs": [],
   "source": [
    "import numpy as np\n",
    "import math\n",
    "import itertools\n",
    "from functools import lru_cache\n",
    "from sympy.combinatorics import Permutation\n",
    "from tqdm import tqdm\n",
    "\n",
    "class SimplexPSO:\n",
    "    def __init__(self, n_particles, dim, objective_func, objective_params, max_iter=100):\n",
    "        self.n_particles = n_particles\n",
    "        self.dim = dim\n",
    "        self.objective_func = objective_func\n",
    "        self.objective_params = objective_params\n",
    "        self.max_iter = max_iter\n",
    "\n",
    "        # Inizializza parametri PSO\n",
    "        self.omega = 0.9\n",
    "        self.c1 = 2.0\n",
    "        self.c2 = 2.0\n",
    "        \n",
    "        # Inizializza posizioni e velocità\n",
    "        self.positions = np.random.dirichlet(np.ones(dim), size=n_particles)\n",
    "        self.velocities = np.zeros((n_particles, dim))\n",
    "        \n",
    "        self.initialize_best_positions()\n",
    "\n",
    "    def initialize_best_positions(self):\n",
    "        self.pbest = self.positions.copy()\n",
    "        self.pbest_scores = np.array([self.objective_func(p, **self.objective_params)\n",
    "                                    for p in self.positions])\n",
    "        best_idx = np.argmin(self.pbest_scores)\n",
    "        self.gbest = self.pbest[best_idx]\n",
    "        self.gbest_score = self.pbest_scores[best_idx]\n",
    "\n",
    "    def project_simplex(self, x):\n",
    "        x_sorted = np.sort(x)[::-1]\n",
    "        cumsum = np.cumsum(x_sorted) - 1.0\n",
    "        indices = np.arange(1, len(x) + 1)\n",
    "        rho = np.where(x_sorted - cumsum / indices > 0)[0][-1]\n",
    "        lambda_ = cumsum[rho] / (rho + 1)\n",
    "        return np.maximum(x - lambda_, 0)\n",
    "\n",
    "    def optimize(self):\n",
    "        convergence = []\n",
    "        for _ in tqdm(range(self.max_iter)):\n",
    "            for i in range(self.n_particles):\n",
    "                self.update_particle(i)\n",
    "            self.update_inertia()\n",
    "            convergence.append(self.gbest_score)\n",
    "        return self.gbest, self.gbest_score, convergence\n",
    "\n",
    "    def update_particle(self, idx):\n",
    "        r1, r2 = np.random.rand(2)\n",
    "        self.velocities[idx] = (self.omega * self.velocities[idx] +\n",
    "                               self.c1 * r1 * (self.pbest[idx] - self.positions[idx]) +\n",
    "                               self.c2 * r2 * (self.gbest - self.positions[idx]))\n",
    "        \n",
    "        new_pos = self.project_simplex(self.positions[idx] + self.velocities[idx])\n",
    "        score = self.objective_func(new_pos, **self.objective_params)\n",
    "        \n",
    "        if score < self.pbest_scores[idx]:\n",
    "            self.update_best_positions(idx, new_pos, score)\n",
    "\n",
    "    def update_best_positions(self, idx, new_pos, score):\n",
    "        self.pbest[idx] = new_pos\n",
    "        self.pbest_scores[idx] = score\n",
    "        if score < self.gbest_score:\n",
    "            self.gbest = new_pos\n",
    "            self.gbest_score = score\n",
    "\n",
    "    def update_inertia(self):\n",
    "        self.omega *= 0.99\n",
    "\n",
    "def sparse_preference(vector, processor, n=500, MCiterations=100, eps=0.05):\n",
    "    k = processor.k\n",
    "    fact = math.factorial(k)\n",
    "    total = 0\n",
    "\n",
    "    for it in range(MCiterations):\n",
    "        samples = np.random.choice(fact, n)\n",
    "        min_vals = []\n",
    "\n",
    "        chunk_size = 1000\n",
    "        for chunk_start in range(0, fact, chunk_size):\n",
    "            chunk = range(chunk_start, min(chunk_start+chunk_size, fact))\n",
    "            sums = np.zeros(len(chunk))\n",
    "\n",
    "            for i, idx in enumerate(chunk):\n",
    "                row_sum = 0\n",
    "                for j in samples:\n",
    "                    if idx == 0 or j == 0:\n",
    "                        val = vector[abs(idx-j)-1] if (idx !=0 or j!=0) else 0\n",
    "                    else:\n",
    "                        product = processor.perm_product(idx, j)\n",
    "                        val = vector[product-1] if product !=0 else 0\n",
    "                    row_sum += val\n",
    "                sums[i] = row_sum\n",
    "\n",
    "            min_vals.append(sums.min())\n",
    "\n",
    "        current_min = np.min(min_vals)\n",
    "        eps_value = eps * abs(current_min)\n",
    "        # print(f\"[Preference] Iter {it+1}/{MCiterations} — eps = {eps_value:.6f}\")\n",
    "        total += np.sum((sums >= current_min - eps_value) & (sums <= current_min + eps_value))\n",
    "\n",
    "    return total / (MCiterations * len(min_vals))\n",
    "\n",
    "def dynamic_choice(vector, processor, n=500, MCiterations=100, eps=0.05):\n",
    "    k = processor.k\n",
    "    vectorTmp = np.zeros(k)\n",
    "    vectorTmp[1:] = vector  # stesso schema di Choice\n",
    "    \n",
    "    counts = []\n",
    "\n",
    "    for it in range(MCiterations):\n",
    "        sums = np.zeros(k)\n",
    "        for _ in range(n):\n",
    "            perm = np.random.permutation(k)\n",
    "            for y in range(k):\n",
    "                sums[y] += vectorTmp[perm[y]]\n",
    "        \n",
    "        min_sum = sums.min()\n",
    "        eps_value = eps * abs(min_sum)\n",
    "        \n",
    "        # print(f\"[Choice] Iter {it+1}/{MCiterations} — eps = {eps_value:.6f}\")\n",
    "        counts.append(np.sum((sums >= min_sum - eps_value) & (sums <= min_sum + eps_value)))\n",
    "\n",
    "    return np.mean(counts)\n",
    "\n",
    "\n",
    "class EfficientPermutationProcessor:\n",
    "    def __init__(self, k):\n",
    "        self.k = k\n",
    "        self.rank_dict = {}\n",
    "        self.perm_list = []\n",
    "        \n",
    "        for idx, perm in enumerate(itertools.permutations(range(k))):\n",
    "            self.perm_list.append(perm)\n",
    "            self.rank_dict[perm] = idx\n",
    "    \n",
    "    @property\n",
    "    def fact(self):\n",
    "        return math.factorial(self.k)\n",
    "    \n",
    "    @lru_cache(maxsize=None)\n",
    "    def perm_product(self, i, j):\n",
    "        \"\"\"Calcola il prodotto delle permutazioni usando SymPy\"\"\"\n",
    "        p1 = Permutation(list(self.perm_list[i])) \n",
    "        p2 = Permutation(list(self.perm_list[j]))\n",
    "        product = p1 * p2\n",
    "        return self.rank_dict[tuple(product.array_form)] "
   ]
  },
  {
   "cell_type": "code",
   "execution_count": 36,
   "id": "dbdd8684",
   "metadata": {},
   "outputs": [
    {
     "name": "stderr",
     "output_type": "stream",
     "text": [
      "100%|███████████████████████████████████████████| 50/50 [00:10<00:00,  4.95it/s]"
     ]
    },
    {
     "name": "stdout",
     "output_type": "stream",
     "text": [
      "Choice Score: 1.0100\n"
     ]
    },
    {
     "name": "stderr",
     "output_type": "stream",
     "text": [
      "\n"
     ]
    }
   ],
   "source": [
    "if __name__ == \"__main__\":\n",
    "    k = 3  \n",
    "    n = 10\n",
    "    \n",
    "    # # Configurazione per Preference\n",
    "    # pso_pref = SimplexPSO(\n",
    "    #     n_particles=100,\n",
    "    #     dim=math.factorial(k) - 1,\n",
    "    #     objective_func=sparse_preference,\n",
    "    #     objective_params={'processor': EfficientPermutationProcessor(k), 'n': n},\n",
    "    #     max_iter=50\n",
    "    # )\n",
    "    \n",
    "    # Configurazione per Choice\n",
    "    pso_choice = SimplexPSO(\n",
    "        n_particles=100,\n",
    "        dim=k-1, \n",
    "        objective_func=dynamic_choice,\n",
    "        objective_params={'processor': EfficientPermutationProcessor(k), 'n': n},\n",
    "        max_iter=50\n",
    "    )\n",
    "    \n",
    "    # Esegui ottimizzazioni\n",
    "    # best_pref, score_pref, _ = pso_pref.optimize()\n",
    "    best_choice, score_choice, _ = pso_choice.optimize()\n",
    "    \n",
    "    # print(f\"Preference Score: {score_pref:.4f}\")\n",
    "    print(f\"Choice Score: {score_choice:.4f}\")"
   ]
  },
  {
   "cell_type": "code",
   "execution_count": 37,
   "id": "600dbbde",
   "metadata": {},
   "outputs": [
    {
     "name": "stdout",
     "output_type": "stream",
     "text": [
      "\n",
      "--- Simulazione per k=3, n=10, eps=0.1 ---\n",
      " Ripetizione 1\n"
     ]
    },
    {
     "name": "stderr",
     "output_type": "stream",
     "text": [
      "100%|███████████████████████████████████████████| 50/50 [00:06<00:00,  7.26it/s]\n",
      "100%|███████████████████████████████████████████| 50/50 [00:05<00:00,  9.69it/s]\n"
     ]
    },
    {
     "name": "stdout",
     "output_type": "stream",
     "text": [
      " Ripetizione 2\n"
     ]
    },
    {
     "name": "stderr",
     "output_type": "stream",
     "text": [
      "100%|███████████████████████████████████████████| 50/50 [00:07<00:00,  7.08it/s]\n",
      "100%|███████████████████████████████████████████| 50/50 [00:05<00:00,  9.41it/s]\n"
     ]
    },
    {
     "name": "stdout",
     "output_type": "stream",
     "text": [
      " Ripetizione 3\n"
     ]
    },
    {
     "name": "stderr",
     "output_type": "stream",
     "text": [
      "100%|███████████████████████████████████████████| 50/50 [00:07<00:00,  6.79it/s]\n",
      "100%|███████████████████████████████████████████| 50/50 [00:05<00:00,  9.24it/s]\n"
     ]
    },
    {
     "name": "stdout",
     "output_type": "stream",
     "text": [
      " Ripetizione 4\n"
     ]
    },
    {
     "name": "stderr",
     "output_type": "stream",
     "text": [
      "100%|███████████████████████████████████████████| 50/50 [00:07<00:00,  6.93it/s]\n",
      "100%|███████████████████████████████████████████| 50/50 [00:05<00:00,  9.70it/s]\n"
     ]
    },
    {
     "name": "stdout",
     "output_type": "stream",
     "text": [
      " Ripetizione 5\n"
     ]
    },
    {
     "name": "stderr",
     "output_type": "stream",
     "text": [
      "100%|███████████████████████████████████████████| 50/50 [00:07<00:00,  6.96it/s]\n",
      "100%|███████████████████████████████████████████| 50/50 [00:05<00:00,  9.05it/s]\n"
     ]
    },
    {
     "name": "stdout",
     "output_type": "stream",
     "text": [
      "\n",
      "--- Simulazione per k=3, n=10, eps=0.3 ---\n",
      " Ripetizione 1\n"
     ]
    },
    {
     "name": "stderr",
     "output_type": "stream",
     "text": [
      "100%|███████████████████████████████████████████| 50/50 [00:07<00:00,  6.92it/s]\n",
      "100%|███████████████████████████████████████████| 50/50 [00:05<00:00,  9.34it/s]\n"
     ]
    },
    {
     "name": "stdout",
     "output_type": "stream",
     "text": [
      " Ripetizione 2\n"
     ]
    },
    {
     "name": "stderr",
     "output_type": "stream",
     "text": [
      "100%|███████████████████████████████████████████| 50/50 [00:07<00:00,  7.05it/s]\n",
      "100%|███████████████████████████████████████████| 50/50 [00:05<00:00,  9.36it/s]\n"
     ]
    },
    {
     "name": "stdout",
     "output_type": "stream",
     "text": [
      " Ripetizione 3\n"
     ]
    },
    {
     "name": "stderr",
     "output_type": "stream",
     "text": [
      "100%|███████████████████████████████████████████| 50/50 [00:07<00:00,  6.99it/s]\n",
      "100%|███████████████████████████████████████████| 50/50 [00:05<00:00,  9.47it/s]\n"
     ]
    },
    {
     "name": "stdout",
     "output_type": "stream",
     "text": [
      " Ripetizione 4\n"
     ]
    },
    {
     "name": "stderr",
     "output_type": "stream",
     "text": [
      "100%|███████████████████████████████████████████| 50/50 [00:07<00:00,  6.99it/s]\n",
      "100%|███████████████████████████████████████████| 50/50 [00:05<00:00,  9.49it/s]\n"
     ]
    },
    {
     "name": "stdout",
     "output_type": "stream",
     "text": [
      " Ripetizione 5\n"
     ]
    },
    {
     "name": "stderr",
     "output_type": "stream",
     "text": [
      "100%|███████████████████████████████████████████| 50/50 [00:07<00:00,  6.92it/s]\n",
      "100%|███████████████████████████████████████████| 50/50 [00:05<00:00,  9.10it/s]\n"
     ]
    },
    {
     "name": "stdout",
     "output_type": "stream",
     "text": [
      "\n",
      "--- Simulazione per k=3, n=10, eps=0.5 ---\n",
      " Ripetizione 1\n"
     ]
    },
    {
     "name": "stderr",
     "output_type": "stream",
     "text": [
      "100%|███████████████████████████████████████████| 50/50 [00:07<00:00,  6.85it/s]\n",
      "100%|███████████████████████████████████████████| 50/50 [00:05<00:00,  9.49it/s]\n"
     ]
    },
    {
     "name": "stdout",
     "output_type": "stream",
     "text": [
      " Ripetizione 2\n"
     ]
    },
    {
     "name": "stderr",
     "output_type": "stream",
     "text": [
      "100%|███████████████████████████████████████████| 50/50 [00:07<00:00,  6.69it/s]\n",
      "100%|███████████████████████████████████████████| 50/50 [00:05<00:00,  9.36it/s]\n"
     ]
    },
    {
     "name": "stdout",
     "output_type": "stream",
     "text": [
      " Ripetizione 3\n"
     ]
    },
    {
     "name": "stderr",
     "output_type": "stream",
     "text": [
      "100%|███████████████████████████████████████████| 50/50 [00:07<00:00,  6.79it/s]\n",
      "100%|███████████████████████████████████████████| 50/50 [00:05<00:00,  9.47it/s]\n"
     ]
    },
    {
     "name": "stdout",
     "output_type": "stream",
     "text": [
      " Ripetizione 4\n"
     ]
    },
    {
     "name": "stderr",
     "output_type": "stream",
     "text": [
      "100%|███████████████████████████████████████████| 50/50 [00:07<00:00,  6.84it/s]\n",
      "100%|███████████████████████████████████████████| 50/50 [00:05<00:00,  9.60it/s]\n"
     ]
    },
    {
     "name": "stdout",
     "output_type": "stream",
     "text": [
      " Ripetizione 5\n"
     ]
    },
    {
     "name": "stderr",
     "output_type": "stream",
     "text": [
      "100%|███████████████████████████████████████████| 50/50 [00:07<00:00,  6.76it/s]\n",
      "100%|███████████████████████████████████████████| 50/50 [00:05<00:00,  9.36it/s]\n"
     ]
    },
    {
     "name": "stdout",
     "output_type": "stream",
     "text": [
      "\n",
      "--- Simulazione per k=3, n=100, eps=0.1 ---\n",
      " Ripetizione 1\n"
     ]
    },
    {
     "name": "stderr",
     "output_type": "stream",
     "text": [
      "100%|███████████████████████████████████████████| 50/50 [00:36<00:00,  1.36it/s]\n",
      "100%|███████████████████████████████████████████| 50/50 [00:37<00:00,  1.35it/s]\n"
     ]
    },
    {
     "name": "stdout",
     "output_type": "stream",
     "text": [
      " Ripetizione 2\n"
     ]
    },
    {
     "name": "stderr",
     "output_type": "stream",
     "text": [
      "100%|███████████████████████████████████████████| 50/50 [00:35<00:00,  1.41it/s]\n",
      "100%|███████████████████████████████████████████| 50/50 [00:36<00:00,  1.35it/s]\n"
     ]
    },
    {
     "name": "stdout",
     "output_type": "stream",
     "text": [
      " Ripetizione 3\n"
     ]
    },
    {
     "name": "stderr",
     "output_type": "stream",
     "text": [
      "100%|███████████████████████████████████████████| 50/50 [00:34<00:00,  1.44it/s]\n",
      "100%|███████████████████████████████████████████| 50/50 [00:37<00:00,  1.34it/s]\n"
     ]
    },
    {
     "name": "stdout",
     "output_type": "stream",
     "text": [
      " Ripetizione 4\n"
     ]
    },
    {
     "name": "stderr",
     "output_type": "stream",
     "text": [
      "100%|███████████████████████████████████████████| 50/50 [00:35<00:00,  1.41it/s]\n",
      "100%|███████████████████████████████████████████| 50/50 [00:36<00:00,  1.37it/s]\n"
     ]
    },
    {
     "name": "stdout",
     "output_type": "stream",
     "text": [
      " Ripetizione 5\n"
     ]
    },
    {
     "name": "stderr",
     "output_type": "stream",
     "text": [
      "100%|███████████████████████████████████████████| 50/50 [00:36<00:00,  1.36it/s]\n",
      "100%|███████████████████████████████████████████| 50/50 [00:37<00:00,  1.35it/s]\n"
     ]
    },
    {
     "name": "stdout",
     "output_type": "stream",
     "text": [
      "\n",
      "--- Simulazione per k=3, n=100, eps=0.3 ---\n",
      " Ripetizione 1\n"
     ]
    },
    {
     "name": "stderr",
     "output_type": "stream",
     "text": [
      "100%|███████████████████████████████████████████| 50/50 [00:36<00:00,  1.36it/s]\n",
      "100%|███████████████████████████████████████████| 50/50 [00:37<00:00,  1.34it/s]\n"
     ]
    },
    {
     "name": "stdout",
     "output_type": "stream",
     "text": [
      " Ripetizione 2\n"
     ]
    },
    {
     "name": "stderr",
     "output_type": "stream",
     "text": [
      "100%|███████████████████████████████████████████| 50/50 [00:36<00:00,  1.36it/s]\n",
      "100%|███████████████████████████████████████████| 50/50 [00:37<00:00,  1.34it/s]\n"
     ]
    },
    {
     "name": "stdout",
     "output_type": "stream",
     "text": [
      " Ripetizione 3\n"
     ]
    },
    {
     "name": "stderr",
     "output_type": "stream",
     "text": [
      "100%|███████████████████████████████████████████| 50/50 [00:36<00:00,  1.37it/s]\n",
      "100%|███████████████████████████████████████████| 50/50 [00:37<00:00,  1.33it/s]\n"
     ]
    },
    {
     "name": "stdout",
     "output_type": "stream",
     "text": [
      " Ripetizione 4\n"
     ]
    },
    {
     "name": "stderr",
     "output_type": "stream",
     "text": [
      "100%|███████████████████████████████████████████| 50/50 [00:36<00:00,  1.37it/s]\n",
      " 28%|████████████                               | 14/50 [00:10<00:26,  1.35it/s]\n"
     ]
    },
    {
     "ename": "KeyboardInterrupt",
     "evalue": "",
     "output_type": "error",
     "traceback": [
      "\u001b[0;31m---------------------------------------------------------------------------\u001b[0m",
      "\u001b[0;31mKeyboardInterrupt\u001b[0m                         Traceback (most recent call last)",
      "Cell \u001b[0;32mIn[37], line 43\u001b[0m\n\u001b[1;32m     41\u001b[0m start \u001b[38;5;241m=\u001b[39m time\u001b[38;5;241m.\u001b[39mtime()\n\u001b[1;32m     42\u001b[0m pso_choice \u001b[38;5;241m=\u001b[39m SimplexPSO(n_particles, dim_choice, objective_choice, {}, max_iter)\n\u001b[0;32m---> 43\u001b[0m best_c, score_c, _ \u001b[38;5;241m=\u001b[39m \u001b[43mpso_choice\u001b[49m\u001b[38;5;241;43m.\u001b[39;49m\u001b[43moptimize\u001b[49m\u001b[43m(\u001b[49m\u001b[43m)\u001b[49m\n\u001b[1;32m     44\u001b[0m time_choice \u001b[38;5;241m=\u001b[39m time\u001b[38;5;241m.\u001b[39mtime() \u001b[38;5;241m-\u001b[39m start\n\u001b[1;32m     46\u001b[0m \u001b[38;5;66;03m# Aggiungi risultato\u001b[39;00m\n",
      "Cell \u001b[0;32mIn[35], line 47\u001b[0m, in \u001b[0;36mSimplexPSO.optimize\u001b[0;34m(self)\u001b[0m\n\u001b[1;32m     45\u001b[0m \u001b[38;5;28;01mfor\u001b[39;00m _ \u001b[38;5;129;01min\u001b[39;00m tqdm(\u001b[38;5;28mrange\u001b[39m(\u001b[38;5;28mself\u001b[39m\u001b[38;5;241m.\u001b[39mmax_iter)):\n\u001b[1;32m     46\u001b[0m     \u001b[38;5;28;01mfor\u001b[39;00m i \u001b[38;5;129;01min\u001b[39;00m \u001b[38;5;28mrange\u001b[39m(\u001b[38;5;28mself\u001b[39m\u001b[38;5;241m.\u001b[39mn_particles):\n\u001b[0;32m---> 47\u001b[0m         \u001b[38;5;28;43mself\u001b[39;49m\u001b[38;5;241;43m.\u001b[39;49m\u001b[43mupdate_particle\u001b[49m\u001b[43m(\u001b[49m\u001b[43mi\u001b[49m\u001b[43m)\u001b[49m\n\u001b[1;32m     48\u001b[0m     \u001b[38;5;28mself\u001b[39m\u001b[38;5;241m.\u001b[39mupdate_inertia()\n\u001b[1;32m     49\u001b[0m     convergence\u001b[38;5;241m.\u001b[39mappend(\u001b[38;5;28mself\u001b[39m\u001b[38;5;241m.\u001b[39mgbest_score)\n",
      "Cell \u001b[0;32mIn[35], line 59\u001b[0m, in \u001b[0;36mSimplexPSO.update_particle\u001b[0;34m(self, idx)\u001b[0m\n\u001b[1;32m     54\u001b[0m \u001b[38;5;28mself\u001b[39m\u001b[38;5;241m.\u001b[39mvelocities[idx] \u001b[38;5;241m=\u001b[39m (\u001b[38;5;28mself\u001b[39m\u001b[38;5;241m.\u001b[39momega \u001b[38;5;241m*\u001b[39m \u001b[38;5;28mself\u001b[39m\u001b[38;5;241m.\u001b[39mvelocities[idx] \u001b[38;5;241m+\u001b[39m\n\u001b[1;32m     55\u001b[0m                        \u001b[38;5;28mself\u001b[39m\u001b[38;5;241m.\u001b[39mc1 \u001b[38;5;241m*\u001b[39m r1 \u001b[38;5;241m*\u001b[39m (\u001b[38;5;28mself\u001b[39m\u001b[38;5;241m.\u001b[39mpbest[idx] \u001b[38;5;241m-\u001b[39m \u001b[38;5;28mself\u001b[39m\u001b[38;5;241m.\u001b[39mpositions[idx]) \u001b[38;5;241m+\u001b[39m\n\u001b[1;32m     56\u001b[0m                        \u001b[38;5;28mself\u001b[39m\u001b[38;5;241m.\u001b[39mc2 \u001b[38;5;241m*\u001b[39m r2 \u001b[38;5;241m*\u001b[39m (\u001b[38;5;28mself\u001b[39m\u001b[38;5;241m.\u001b[39mgbest \u001b[38;5;241m-\u001b[39m \u001b[38;5;28mself\u001b[39m\u001b[38;5;241m.\u001b[39mpositions[idx]))\n\u001b[1;32m     58\u001b[0m new_pos \u001b[38;5;241m=\u001b[39m \u001b[38;5;28mself\u001b[39m\u001b[38;5;241m.\u001b[39mproject_simplex(\u001b[38;5;28mself\u001b[39m\u001b[38;5;241m.\u001b[39mpositions[idx] \u001b[38;5;241m+\u001b[39m \u001b[38;5;28mself\u001b[39m\u001b[38;5;241m.\u001b[39mvelocities[idx])\n\u001b[0;32m---> 59\u001b[0m score \u001b[38;5;241m=\u001b[39m \u001b[38;5;28;43mself\u001b[39;49m\u001b[38;5;241;43m.\u001b[39;49m\u001b[43mobjective_func\u001b[49m\u001b[43m(\u001b[49m\u001b[43mnew_pos\u001b[49m\u001b[43m,\u001b[49m\u001b[43m \u001b[49m\u001b[38;5;241;43m*\u001b[39;49m\u001b[38;5;241;43m*\u001b[39;49m\u001b[38;5;28;43mself\u001b[39;49m\u001b[38;5;241;43m.\u001b[39;49m\u001b[43mobjective_params\u001b[49m\u001b[43m)\u001b[49m\n\u001b[1;32m     61\u001b[0m \u001b[38;5;28;01mif\u001b[39;00m score \u001b[38;5;241m<\u001b[39m \u001b[38;5;28mself\u001b[39m\u001b[38;5;241m.\u001b[39mpbest_scores[idx]:\n\u001b[1;32m     62\u001b[0m     \u001b[38;5;28mself\u001b[39m\u001b[38;5;241m.\u001b[39mupdate_best_positions(idx, new_pos, score)\n",
      "Cell \u001b[0;32mIn[37], line 28\u001b[0m, in \u001b[0;36m<lambda>\u001b[0;34m(v)\u001b[0m\n\u001b[1;32m     26\u001b[0m \u001b[38;5;66;03m# Define wrapped objective functions\u001b[39;00m\n\u001b[1;32m     27\u001b[0m objective_pref \u001b[38;5;241m=\u001b[39m \u001b[38;5;28;01mlambda\u001b[39;00m v: sparse_preference(v, processor\u001b[38;5;241m=\u001b[39mprocessor, n\u001b[38;5;241m=\u001b[39mn, eps\u001b[38;5;241m=\u001b[39meps)\n\u001b[0;32m---> 28\u001b[0m objective_choice \u001b[38;5;241m=\u001b[39m \u001b[38;5;28;01mlambda\u001b[39;00m v: \u001b[43mdynamic_choice\u001b[49m\u001b[43m(\u001b[49m\u001b[43mv\u001b[49m\u001b[43m,\u001b[49m\u001b[43m \u001b[49m\u001b[43mprocessor\u001b[49m\u001b[38;5;241;43m=\u001b[39;49m\u001b[43mprocessor\u001b[49m\u001b[43m,\u001b[49m\u001b[43m \u001b[49m\u001b[43mn\u001b[49m\u001b[38;5;241;43m=\u001b[39;49m\u001b[43mn\u001b[49m\u001b[43m,\u001b[49m\u001b[43m \u001b[49m\u001b[43meps\u001b[49m\u001b[38;5;241;43m=\u001b[39;49m\u001b[43meps\u001b[49m\u001b[43m)\u001b[49m\n\u001b[1;32m     30\u001b[0m \u001b[38;5;66;03m# Dimensionalità\u001b[39;00m\n\u001b[1;32m     31\u001b[0m dim_pref \u001b[38;5;241m=\u001b[39m math\u001b[38;5;241m.\u001b[39mfactorial(k) \u001b[38;5;241m-\u001b[39m \u001b[38;5;241m1\u001b[39m\n",
      "Cell \u001b[0;32mIn[35], line 120\u001b[0m, in \u001b[0;36mdynamic_choice\u001b[0;34m(vector, processor, n, MCiterations, eps)\u001b[0m\n\u001b[1;32m    118\u001b[0m     perm \u001b[38;5;241m=\u001b[39m np\u001b[38;5;241m.\u001b[39mrandom\u001b[38;5;241m.\u001b[39mpermutation(k)\n\u001b[1;32m    119\u001b[0m     \u001b[38;5;28;01mfor\u001b[39;00m y \u001b[38;5;129;01min\u001b[39;00m \u001b[38;5;28mrange\u001b[39m(k):\n\u001b[0;32m--> 120\u001b[0m         sums[y] \u001b[38;5;241m+\u001b[39m\u001b[38;5;241m=\u001b[39m vectorTmp[perm[y]]\n\u001b[1;32m    122\u001b[0m min_sum \u001b[38;5;241m=\u001b[39m sums\u001b[38;5;241m.\u001b[39mmin()\n\u001b[1;32m    123\u001b[0m eps_value \u001b[38;5;241m=\u001b[39m eps \u001b[38;5;241m*\u001b[39m \u001b[38;5;28mabs\u001b[39m(min_sum)\n",
      "\u001b[0;31mKeyboardInterrupt\u001b[0m: "
     ]
    }
   ],
   "source": [
    "import numpy as np\n",
    "import pandas as pd\n",
    "import time\n",
    "import math\n",
    "import itertools\n",
    "\n",
    "# Parametri simulazione\n",
    "ks = [3, 5, 8]\n",
    "ns = [10, 100, 1000]\n",
    "epsilons = [0.1, 0.3, 0.5]\n",
    "n_particles = 50\n",
    "max_iter = 50\n",
    "n_repeats = 5\n",
    "\n",
    "# Inizializza raccolta risultati\n",
    "all_results = []\n",
    "\n",
    "# Loop su tutte le combinazioni (k, n, eps) con ripetizioni\n",
    "for k, n, eps in itertools.product(ks, ns, epsilons):\n",
    "    print(f\"\\n--- Simulazione per k={k}, n={n}, eps={eps} ---\")\n",
    "    \n",
    "    for repeat in range(1, n_repeats + 1):\n",
    "        print(f\" Ripetizione {repeat}\")\n",
    "        processor = EfficientPermutationProcessor(k)\n",
    "\n",
    "        # Define wrapped objective functions\n",
    "        objective_pref = lambda v: sparse_preference(v, processor=processor, n=n, eps=eps)\n",
    "        objective_choice = lambda v: dynamic_choice(v, processor=processor, n=n, eps=eps)\n",
    "\n",
    "        # Dimensionalità\n",
    "        dim_pref = math.factorial(k) - 1\n",
    "        dim_choice = k - 1\n",
    "\n",
    "        # Ottimizzazione preference\n",
    "        start = time.time()\n",
    "        pso_pref = SimplexPSO(n_particles, dim_pref, objective_pref, {}, max_iter)\n",
    "        best_p, score_p, _ = pso_pref.optimize()\n",
    "        time_pref = time.time() - start\n",
    "\n",
    "        # Ottimizzazione choice\n",
    "        start = time.time()\n",
    "        pso_choice = SimplexPSO(n_particles, dim_choice, objective_choice, {}, max_iter)\n",
    "        best_c, score_c, _ = pso_choice.optimize()\n",
    "        time_choice = time.time() - start\n",
    "\n",
    "        # Aggiungi risultato\n",
    "        all_results.append({\n",
    "            'k': k,\n",
    "            'n': n,\n",
    "            'eps': eps,\n",
    "            'repeat': repeat,\n",
    "            'score_pref': score_p,\n",
    "            'score_choice': score_c,\n",
    "            'time_pref': time_pref,\n",
    "            'time_choice': time_choice\n",
    "        })\n",
    "\n",
    "# Salvataggio in CSV\n",
    "df = pd.DataFrame(all_results)\n",
    "df.to_csv(\"risultati_simulazione_pso.csv\", index=False)\n",
    "print(\"Simulazione completata e salvata in 'risultati_simulazione_pso.csv'\")"
   ]
  },
  {
   "cell_type": "code",
   "execution_count": null,
   "id": "ce7c3825",
   "metadata": {},
   "outputs": [],
   "source": []
  }
 ],
 "metadata": {
  "kernelspec": {
   "display_name": "Python 3 (ipykernel)",
   "language": "python",
   "name": "python3"
  },
  "language_info": {
   "codemirror_mode": {
    "name": "ipython",
    "version": 3
   },
   "file_extension": ".py",
   "mimetype": "text/x-python",
   "name": "python",
   "nbconvert_exporter": "python",
   "pygments_lexer": "ipython3",
   "version": "3.10.9"
  }
 },
 "nbformat": 4,
 "nbformat_minor": 5
}
