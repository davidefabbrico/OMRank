{
 "cells": [
  {
   "cell_type": "markdown",
   "id": "668856e4",
   "metadata": {},
   "source": [
    "# Optimal metrics on the space of rankings for Social Choice Theory"
   ]
  },
  {
   "cell_type": "markdown",
   "id": "20668b2e",
   "metadata": {},
   "source": [
    "The analysis of properties of Social Function is focal point of Social Choice Theory. In the Arrow's framework there is a group of individuals who has to choose among a set $\\{1,..., k\\} =: A_k$ of alternatives. Each individual gives his vote through a linear order on $A_k$. A Social Function takes as input an electoral profile and returns the winner alternatives. There is a large class of Social Functions that can be defined starting from a \"metric\" on the space of rankings $L(A_k)$ with alternatives $A_k$, for instance the Kemeny's Social Preference Function, the Score Social Choice Functions as the Plurality or the Borda's one. "
   ]
  },
  {
   "cell_type": "markdown",
   "id": "afc1542e",
   "metadata": {},
   "source": [
    "## New Functions for the Project Social Choice and Preference"
   ]
  },
  {
   "cell_type": "code",
   "execution_count": 45,
   "id": "a0fd2eb6",
   "metadata": {},
   "outputs": [],
   "source": [
    "# librerie\n",
    "import numpy as np\n",
    "import math\n",
    "import itertools\n",
    "import matplotlib.pyplot as plt\n",
    "\n",
    "# funzioni principali\n",
    "def multiply_permutations(perm1, perm2):\n",
    "    \"\"\"Product of two permutations\"\"\"\n",
    "    return [perm1[i] for i in perm2]\n",
    "\n",
    "def inverse_permutation(perm):\n",
    "    perm = np.array(perm)\n",
    "    inv_perm = np.zeros_like(perm)\n",
    "    inv_perm[perm] = np.arange(len(perm))\n",
    "    return inv_perm\n",
    "\n",
    "def find_tuple(lst_of_tuples, target_tuple):\n",
    "    for i, t in enumerate(lst_of_tuples):\n",
    "        if t == target_tuple:\n",
    "            return i \n",
    "    return -1\n",
    "\n",
    "def project_simplex(y):\n",
    "    y_sorted = np.sort(y)[::-1]\n",
    "    cumsum = np.cumsum(y_sorted)\n",
    "    rho = np.where(y_sorted + (1 - cumsum) / (np.arange(len(y)) + 1) > 0)[0][-1]\n",
    "    lambda_val = (cumsum[rho] - 1) / (rho + 1)\n",
    "    return np.maximum(y - lambda_val, 0)\n",
    "\n",
    "class SimplexPSO:\n",
    "    def __init__(self, n_particles, dim, objective_func, max_iter=100):\n",
    "        self.n_particles = n_particles\n",
    "        self.dim = dim\n",
    "        self.objective_func = objective_func\n",
    "        self.max_iter = max_iter\n",
    "        self.omega = 0.9\n",
    "        self.c1 = 2.0\n",
    "        self.c2 = 2.0\n",
    "        self.velocity_history = []\n",
    "        \n",
    "        # Inizializza posizioni e velocità\n",
    "        self.positions = np.random.dirichlet(np.ones(dim), size=n_particles)\n",
    "        self.velocities = np.zeros((n_particles, dim))\n",
    "        \n",
    "        # Inizializza pbest e gbest\n",
    "        self.pbest = self.positions.copy()\n",
    "        self.pbest_scores = np.array([objective_func(p) for p in self.positions])\n",
    "        self.gbest = self.pbest[np.argmin(self.pbest_scores)]\n",
    "        self.gbest_score = np.min(self.pbest_scores)\n",
    "    \n",
    "    def optimize(self):\n",
    "        gbest_scores = [] # convergenza\n",
    "        for _ in range(self.max_iter):\n",
    "            for i in range(self.n_particles):\n",
    "                # Aggiorna velocità\n",
    "                r1, r2 = np.random.rand(2)\n",
    "                self.velocities[i] = (self.omega * self.velocities[i] +\n",
    "                                      self.c1 * r1 * (self.pbest[i] - self.positions[i]) +\n",
    "                                      self.c2 * r2 * (self.gbest - self.positions[i]))\n",
    "                \n",
    "                # Aggiorna posizione e proietta\n",
    "                new_position = self.positions[i] + self.velocities[i]\n",
    "                new_position = project_simplex(new_position)\n",
    "                \n",
    "                # Valutazione\n",
    "                score = self.objective_func(new_position)\n",
    "                \n",
    "                # Aggiorna pbest e gbest\n",
    "                if score < self.pbest_scores[i]:\n",
    "                    self.pbest[i] = new_position\n",
    "                    self.pbest_scores[i] = score\n",
    "                    if score < self.gbest_score:\n",
    "                        self.gbest = new_position\n",
    "                        self.gbest_score = score\n",
    "            self.omega *= 0.99  # Decresce l'inerzia\n",
    "            gbest_scores.append(self.gbest_score)\n",
    "            self.velocity_history.append(self.velocities.copy())\n",
    "        return self.gbest, self.gbest_score, gbest_scores\n",
    "    \n",
    "    \n",
    "def Preference(vector):\n",
    "    MCiterations = 100\n",
    "    eps = 1\n",
    "    fact = np.math.factorial(k)\n",
    "    random_matrix = np.zeros((fact, fact)) # inizializzazione matrice delle distanze\n",
    "    random_matrix[0,1:] = vector\n",
    "    for i in range(1, random_matrix.shape[0]):\n",
    "        for j in range(i+1, random_matrix.shape[1]):\n",
    "            r = tuple(multiply_permutations(multiply_permutations(L[i], inverse_permutation(L[j])), L[0]))\n",
    "            random_matrix[i,j] = random_matrix[0, find_tuple(L, r)]\n",
    "    random_matrix = random_matrix + random_matrix.T - np.diag(random_matrix.diagonal()) # matrice simmetrica\n",
    "    valori_minimi = np.zeros(MCiterations)\n",
    "    for i in range(MCiterations):\n",
    "        C = np.random.choice(np.arange(len(L)), n, replace=True)\n",
    "        sommaTot = np.zeros(len(L))\n",
    "        for y in range(len(L)):\n",
    "            sommaF = 0\n",
    "            for j in C:\n",
    "                sommaF += random_matrix[y, j]\n",
    "            sommaTot[y] = sommaF\n",
    "        minimo = np.min(sommaTot)\n",
    "        valori_minimi[i] = np.sum((sommaTot >= minimo - eps) & (sommaTot <= minimo + eps))\n",
    "    meanMin = np.mean(valori_minimi)\n",
    "    return meanMin\n",
    "\n",
    "def Choice(vector):\n",
    "    MCiterations = 100\n",
    "    eps = 0.1\n",
    "    fact = np.math.factorial(k)\n",
    "    random_matrix = np.zeros((fact, k)) # inizializzazione matrice delle distanze\n",
    "    vectorTmp = np.zeros(len(vector) + 1)\n",
    "    vectorTmp[1:] = vector\n",
    "    random_matrix[0,:] = vectorTmp\n",
    "    for i in range(random_matrix.shape[0]):\n",
    "        for j in range(random_matrix.shape[1]):\n",
    "            random_matrix[i,j] = vectorTmp[L[i][j]]\n",
    "    valori_minimi = np.zeros(MCiterations)\n",
    "    for i in range(MCiterations):\n",
    "        C = np.random.choice(np.arange(len(L)), n, replace=True)\n",
    "        sommaTot = np.zeros(k)\n",
    "        for y in range(k):\n",
    "            sommaF = 0\n",
    "            for j in C:\n",
    "                sommaF += random_matrix[j, y]\n",
    "            sommaTot[y] = sommaF\n",
    "        minimo = np.min(sommaTot)\n",
    "        valori_minimi[i] = np.sum((sommaTot >= minimo - eps) & (sommaTot <= minimo + eps))\n",
    "    meanMin = np.mean(valori_minimi)\n",
    "    return meanMin"
   ]
  },
  {
   "cell_type": "markdown",
   "id": "1d4c195e",
   "metadata": {},
   "source": [
    "# Choice"
   ]
  },
  {
   "cell_type": "markdown",
   "id": "0fce5780",
   "metadata": {},
   "source": [
    "## Scenario 1"
   ]
  },
  {
   "cell_type": "code",
   "execution_count": 46,
   "id": "bd85e773",
   "metadata": {},
   "outputs": [],
   "source": [
    "n = 10\n",
    "k = 3\n",
    "items = np.array(range(k))\n",
    "L = list(itertools.permutations(items))"
   ]
  },
  {
   "cell_type": "code",
   "execution_count": 47,
   "id": "5581c118",
   "metadata": {},
   "outputs": [
    {
     "name": "stdout",
     "output_type": "stream",
     "text": [
      "Miglior posizione: [0.88605592 0.11394408]\n",
      "Somma miglior posizione: 1.0\n",
      "Miglior score: 1.0\n"
     ]
    }
   ],
   "source": [
    "# Choice\n",
    "pso = SimplexPSO(n_particles=30, dim=k-1, objective_func=Choice, max_iter=100)\n",
    "best_position_choice, best_score_choice, history = pso.optimize()\n",
    "print(\"Miglior posizione:\", best_position_choice)\n",
    "print(\"Somma miglior posizione:\", sum(best_position_choice))\n",
    "print(\"Miglior score:\", best_score_choice)"
   ]
  },
  {
   "cell_type": "markdown",
   "id": "d63d92c4",
   "metadata": {},
   "source": [
    "## Trace Plot convergenza PSO"
   ]
  },
  {
   "cell_type": "code",
   "execution_count": 48,
   "id": "ea8b5c45",
   "metadata": {},
   "outputs": [
    {
     "data": {
      "image/png": "[encoded data removed]",
      "text/plain": [
       "<Figure size 1000x600 with 1 Axes>"
      ]
     },
     "metadata": {},
     "output_type": "display_data"
    }
   ],
   "source": [
    "plt.figure(figsize=(10, 6))\n",
    "plt.plot(history, 'r-', linewidth=3)\n",
    "plt.title('Convergenza del PSO')\n",
    "plt.xlabel('Iterazione')\n",
    "plt.ylabel('Miglior Score')\n",
    "plt.grid(True)\n",
    "plt.show()"
   ]
  },
  {
   "cell_type": "markdown",
   "id": "ba023b79",
   "metadata": {},
   "source": [
    "## Velocity delle particelle"
   ]
  },
  {
   "cell_type": "code",
   "execution_count": 50,
   "id": "d474624a",
   "metadata": {},
   "outputs": [
    {
     "data": {
      "image/png": "[encoded data removed]",
      "text/plain": [
       "<Figure size 1000x600 with 1 Axes>"
      ]
     },
     "metadata": {},
     "output_type": "display_data"
    }
   ],
   "source": [
    "mean_velocities = [np.mean(np.linalg.norm(v, axis=1)) for v in pso.velocity_history]\n",
    "plt.figure(figsize=(10, 6))\n",
    "plt.plot(mean_velocities, 'g-', linewidth=3)\n",
    "plt.title('Velocità Media delle Particelle')\n",
    "plt.xlabel('Iterazione')\n",
    "plt.ylabel('Velocità')\n",
    "plt.grid(True)\n",
    "plt.show()"
   ]
  },
  {
   "cell_type": "markdown",
   "id": "354e4fc6",
   "metadata": {},
   "source": [
    "# Preference"
   ]
  },
  {
   "cell_type": "markdown",
   "id": "057b88ea",
   "metadata": {},
   "source": [
    "## Scenario 1"
   ]
  },
  {
   "cell_type": "code",
   "execution_count": 57,
   "id": "52f6f0da",
   "metadata": {},
   "outputs": [],
   "source": [
    "n = 10\n",
    "k = 3\n",
    "items = np.array(range(k))\n",
    "L = list(itertools.permutations(items))"
   ]
  },
  {
   "cell_type": "code",
   "execution_count": 58,
   "id": "7d6c97e7",
   "metadata": {},
   "outputs": [
    {
     "name": "stdout",
     "output_type": "stream",
     "text": [
      "Miglior posizione: [0.94804246 0.05195754 0.         0.         0.        ]\n",
      "Somma miglior posizione: 1.0\n",
      "Miglior score: 2.9\n"
     ]
    }
   ],
   "source": [
    "# Preference\n",
    "pso = SimplexPSO(n_particles=30, dim=np.math.factorial(k)-1, objective_func=Preference, max_iter=100)\n",
    "best_position_pref, best_score_pref, history = pso.optimize()\n",
    "print(\"Miglior posizione:\", best_position_pref)\n",
    "print(\"Somma miglior posizione:\", sum(best_position_pref))\n",
    "print(\"Miglior score:\", best_score_pref)"
   ]
  },
  {
   "cell_type": "markdown",
   "id": "464ae287",
   "metadata": {},
   "source": [
    "## Trace Plot convergenza PSO"
   ]
  },
  {
   "cell_type": "code",
   "execution_count": 59,
   "id": "9c8f5f7a",
   "metadata": {},
   "outputs": [
    {
     "data": {
      "image/png": "[encoded data removed]",
      "text/plain": [
       "<Figure size 1000x600 with 1 Axes>"
      ]
     },
     "metadata": {},
     "output_type": "display_data"
    }
   ],
   "source": [
    "plt.figure(figsize=(10, 6))\n",
    "plt.plot(history, 'r-', linewidth=3)\n",
    "plt.title('Convergenza del PSO')\n",
    "plt.xlabel('Iterazione')\n",
    "plt.ylabel('Miglior Score')\n",
    "plt.grid(True)\n",
    "plt.show()"
   ]
  },
  {
   "cell_type": "markdown",
   "id": "7f491a47",
   "metadata": {},
   "source": [
    "## Distribuzione delle particelle nel Simplesso"
   ]
  },
  {
   "cell_type": "code",
   "execution_count": 60,
   "id": "47bd93ea",
   "metadata": {},
   "outputs": [
    {
     "data": {
      "image/png": "[encoded data removed]",
      "text/plain": [
       "<Figure size 1000x600 with 1 Axes>"
      ]
     },
     "metadata": {},
     "output_type": "display_data"
    }
   ],
   "source": [
    "from sklearn.decomposition import PCA\n",
    "\n",
    "# Applica PCA con n_components <= n_features\n",
    "pca = PCA(n_components=2)  # Usa 2 invece di 3\n",
    "projected_particles = pca.fit_transform(particles)\n",
    "\n",
    "# Plot 2D\n",
    "plt.figure(figsize=(10, 6))\n",
    "plt.scatter(projected_particles[:, 0], projected_particles[:, 1], alpha=0.6, label='Particelle')\n",
    "plt.scatter(projected_particles[0, 0], projected_particles[0, 1], color='red', s=100, label='GBest')\n",
    "plt.title('Distribuzione delle Particelle (PCA 2D)')\n",
    "plt.legend()\n",
    "plt.grid(True)\n",
    "plt.show()"
   ]
  },
  {
   "cell_type": "code",
   "execution_count": 61,
   "id": "76f0ea26",
   "metadata": {},
   "outputs": [
    {
     "data": {
      "image/png": "[encoded data removed]",
      "text/plain": [
       "<Figure size 1000x600 with 1 Axes>"
      ]
     },
     "metadata": {},
     "output_type": "display_data"
    }
   ],
   "source": [
    "from sklearn.manifold import TSNE\n",
    "\n",
    "# Estrai le posizioni finali delle particelle\n",
    "particles = pso.positions\n",
    "\n",
    "# Applica t-SNE per proiettare in 2D\n",
    "tsne = TSNE(n_components=3, random_state=42, perplexity=min(10, len(particles)-1))\n",
    "projected_particles = tsne.fit_transform(particles)\n",
    "\n",
    "plt.figure(figsize=(10, 6))\n",
    "plt.scatter(projected_particles[:, 0], projected_particles[:, 1], alpha=0.6, label='Particelle')\n",
    "plt.scatter(projected_particles[0, 0], projected_particles[0, 1], color='red', s=100, label='GBest')\n",
    "plt.title('Distribuzione delle Particelle (t-SNE)')\n",
    "plt.legend()\n",
    "plt.grid(True)\n",
    "plt.show()"
   ]
  },
  {
   "cell_type": "markdown",
   "id": "e1411491",
   "metadata": {},
   "source": [
    "# Simplex Plot"
   ]
  },
  {
   "cell_type": "code",
   "execution_count": 10,
   "id": "b88608fc",
   "metadata": {},
   "outputs": [
    {
     "data": {
      "application/vnd.plotly.v1+json": {
       "config": {
        "plotlyServerURL": "https://plot.ly"
       },
       "data": [
        {
         "a": [
          0
         ],
         "b": [
          0.7797852639385838
         ],
         "c": [
          0.22021473606141617
         ],
         "marker": {
          "color": "red",
          "size": 12
         },
         "mode": "markers",
         "name": "Posizione Ottimale",
         "type": "scatterternary"
        }
       ],
       "layout": {
        "template": {
         "data": {
          "bar": [
           {
            "error_x": {
             "color": "#2a3f5f"
            },
            "error_y": {
             "color": "#2a3f5f"
            },
            "marker": {
             "line": {
              "color": "#E5ECF6",
              "width": 0.5
             },
             "pattern": {
              "fillmode": "overlay",
              "size": 10,
              "solidity": 0.2
             }
            },
            "type": "bar"
           }
          ],
          "barpolar": [
           {
            "marker": {
             "line": {
              "color": "#E5ECF6",
              "width": 0.5
             },
             "pattern": {
              "fillmode": "overlay",
              "size": 10,
              "solidity": 0.2
             }
            },
            "type": "barpolar"
           }
          ],
          "carpet": [
           {
            "aaxis": {
             "endlinecolor": "#2a3f5f",
             "gridcolor": "white",
             "linecolor": "white",
             "minorgridcolor": "white",
             "startlinecolor": "#2a3f5f"
            },
            "baxis": {
             "endlinecolor": "#2a3f5f",
             "gridcolor": "white",
             "linecolor": "white",
             "minorgridcolor": "white",
             "startlinecolor": "#2a3f5f"
            },
            "type": "carpet"
           }
          ],
          "choropleth": [
           {
            "colorbar": {
             "outlinewidth": 0,
             "ticks": ""
            },
            "type": "choropleth"
           }
          ],
          "contour": [
           {
            "colorbar": {
             "outlinewidth": 0,
             "ticks": ""
            },
            "colorscale": [
             [
              0,
              "#0d0887"
             ],
             [
              0.1111111111111111,
              "#46039f"
             ],
             [
              0.2222222222222222,
              "#7201a8"
             ],
             [
              0.3333333333333333,
              "#9c179e"
             ],
             [
              0.4444444444444444,
              "#bd3786"
             ],
             [
              0.5555555555555556,
              "#d8576b"
             ],
             [
              0.6666666666666666,
              "#ed7953"
             ],
             [
              0.7777777777777778,
              "#fb9f3a"
             ],
             [
              0.8888888888888888,
              "#fdca26"
             ],
             [
              1,
              "#f0f921"
             ]
            ],
            "type": "contour"
           }
          ],
          "contourcarpet": [
           {
            "colorbar": {
             "outlinewidth": 0,
             "ticks": ""
            },
            "type": "contourcarpet"
           }
          ],
          "heatmap": [
           {
            "colorbar": {
             "outlinewidth": 0,
             "ticks": ""
            },
            "colorscale": [
             [
              0,
              "#0d0887"
             ],
             [
              0.1111111111111111,
              "#46039f"
             ],
             [
              0.2222222222222222,
              "#7201a8"
             ],
             [
              0.3333333333333333,
              "#9c179e"
             ],
             [
              0.4444444444444444,
              "#bd3786"
             ],
             [
              0.5555555555555556,
              "#d8576b"
             ],
             [
              0.6666666666666666,
              "#ed7953"
             ],
             [
              0.7777777777777778,
              "#fb9f3a"
             ],
             [
              0.8888888888888888,
              "#fdca26"
             ],
             [
              1,
              "#f0f921"
             ]
            ],
            "type": "heatmap"
           }
          ],
          "heatmapgl": [
           {
            "colorbar": {
             "outlinewidth": 0,
             "ticks": ""
            },
            "colorscale": [
             [
              0,
              "#0d0887"
             ],
             [
              0.1111111111111111,
              "#46039f"
             ],
             [
              0.2222222222222222,
              "#7201a8"
             ],
             [
              0.3333333333333333,
              "#9c179e"
             ],
             [
              0.4444444444444444,
              "#bd3786"
             ],
             [
              0.5555555555555556,
              "#d8576b"
             ],
             [
              0.6666666666666666,
              "#ed7953"
             ],
             [
              0.7777777777777778,
              "#fb9f3a"
             ],
             [
              0.8888888888888888,
              "#fdca26"
             ],
             [
              1,
              "#f0f921"
             ]
            ],
            "type": "heatmapgl"
           }
          ],
          "histogram": [
           {
            "marker": {
             "pattern": {
              "fillmode": "overlay",
              "size": 10,
              "solidity": 0.2
             }
            },
            "type": "histogram"
           }
          ],
          "histogram2d": [
           {
            "colorbar": {
             "outlinewidth": 0,
             "ticks": ""
            },
            "colorscale": [
             [
              0,
              "#0d0887"
             ],
             [
              0.1111111111111111,
              "#46039f"
             ],
             [
              0.2222222222222222,
              "#7201a8"
             ],
             [
              0.3333333333333333,
              "#9c179e"
             ],
             [
              0.4444444444444444,
              "#bd3786"
             ],
             [
              0.5555555555555556,
              "#d8576b"
             ],
             [
              0.6666666666666666,
              "#ed7953"
             ],
             [
              0.7777777777777778,
              "#fb9f3a"
             ],
             [
              0.8888888888888888,
              "#fdca26"
             ],
             [
              1,
              "#f0f921"
             ]
            ],
            "type": "histogram2d"
           }
          ],
          "histogram2dcontour": [
           {
            "colorbar": {
             "outlinewidth": 0,
             "ticks": ""
            },
            "colorscale": [
             [
              0,
              "#0d0887"
             ],
             [
              0.1111111111111111,
              "#46039f"
             ],
             [
              0.2222222222222222,
              "#7201a8"
             ],
             [
              0.3333333333333333,
              "#9c179e"
             ],
             [
              0.4444444444444444,
              "#bd3786"
             ],
             [
              0.5555555555555556,
              "#d8576b"
             ],
             [
              0.6666666666666666,
              "#ed7953"
             ],
             [
              0.7777777777777778,
              "#fb9f3a"
             ],
             [
              0.8888888888888888,
              "#fdca26"
             ],
             [
              1,
              "#f0f921"
             ]
            ],
            "type": "histogram2dcontour"
           }
          ],
          "mesh3d": [
           {
            "colorbar": {
             "outlinewidth": 0,
             "ticks": ""
            },
            "type": "mesh3d"
           }
          ],
          "parcoords": [
           {
            "line": {
             "colorbar": {
              "outlinewidth": 0,
              "ticks": ""
             }
            },
            "type": "parcoords"
           }
          ],
          "pie": [
           {
            "automargin": true,
            "type": "pie"
           }
          ],
          "scatter": [
           {
            "fillpattern": {
             "fillmode": "overlay",
             "size": 10,
             "solidity": 0.2
            },
            "type": "scatter"
           }
          ],
          "scatter3d": [
           {
            "line": {
             "colorbar": {
              "outlinewidth": 0,
              "ticks": ""
             }
            },
            "marker": {
             "colorbar": {
              "outlinewidth": 0,
              "ticks": ""
             }
            },
            "type": "scatter3d"
           }
          ],
          "scattercarpet": [
           {
            "marker": {
             "colorbar": {
              "outlinewidth": 0,
              "ticks": ""
             }
            },
            "type": "scattercarpet"
           }
          ],
          "scattergeo": [
           {
            "marker": {
             "colorbar": {
              "outlinewidth": 0,
              "ticks": ""
             }
            },
            "type": "scattergeo"
           }
          ],
          "scattergl": [
           {
            "marker": {
             "colorbar": {
              "outlinewidth": 0,
              "ticks": ""
             }
            },
            "type": "scattergl"
           }
          ],
          "scattermapbox": [
           {
            "marker": {
             "colorbar": {
              "outlinewidth": 0,
              "ticks": ""
             }
            },
            "type": "scattermapbox"
           }
          ],
          "scatterpolar": [
           {
            "marker": {
             "colorbar": {
              "outlinewidth": 0,
              "ticks": ""
             }
            },
            "type": "scatterpolar"
           }
          ],
          "scatterpolargl": [
           {
            "marker": {
             "colorbar": {
              "outlinewidth": 0,
              "ticks": ""
             }
            },
            "type": "scatterpolargl"
           }
          ],
          "scatterternary": [
           {
            "marker": {
             "colorbar": {
              "outlinewidth": 0,
              "ticks": ""
             }
            },
            "type": "scatterternary"
           }
          ],
          "surface": [
           {
            "colorbar": {
             "outlinewidth": 0,
             "ticks": ""
            },
            "colorscale": [
             [
              0,
              "#0d0887"
             ],
             [
              0.1111111111111111,
              "#46039f"
             ],
             [
              0.2222222222222222,
              "#7201a8"
             ],
             [
              0.3333333333333333,
              "#9c179e"
             ],
             [
              0.4444444444444444,
              "#bd3786"
             ],
             [
              0.5555555555555556,
              "#d8576b"
             ],
             [
              0.6666666666666666,
              "#ed7953"
             ],
             [
              0.7777777777777778,
              "#fb9f3a"
             ],
             [
              0.8888888888888888,
              "#fdca26"
             ],
             [
              1,
              "#f0f921"
             ]
            ],
            "type": "surface"
           }
          ],
          "table": [
           {
            "cells": {
             "fill": {
              "color": "#EBF0F8"
             },
             "line": {
              "color": "white"
             }
            },
            "header": {
             "fill": {
              "color": "#C8D4E3"
             },
             "line": {
              "color": "white"
             }
            },
            "type": "table"
           }
          ]
         },
         "layout": {
          "annotationdefaults": {
           "arrowcolor": "#2a3f5f",
           "arrowhead": 0,
           "arrowwidth": 1
          },
          "autotypenumbers": "strict",
          "coloraxis": {
           "colorbar": {
            "outlinewidth": 0,
            "ticks": ""
           }
          },
          "colorscale": {
           "diverging": [
            [
             0,
             "#8e0152"
            ],
            [
             0.1,
             "#c51b7d"
            ],
            [
             0.2,
             "#de77ae"
            ],
            [
             0.3,
             "#f1b6da"
            ],
            [
             0.4,
             "#fde0ef"
            ],
            [
             0.5,
             "#f7f7f7"
            ],
            [
             0.6,
             "#e6f5d0"
            ],
            [
             0.7,
             "#b8e186"
            ],
            [
             0.8,
             "#7fbc41"
            ],
            [
             0.9,
             "#4d9221"
            ],
            [
             1,
             "#276419"
            ]
           ],
           "sequential": [
            [
             0,
             "#0d0887"
            ],
            [
             0.1111111111111111,
             "#46039f"
            ],
            [
             0.2222222222222222,
             "#7201a8"
            ],
            [
             0.3333333333333333,
             "#9c179e"
            ],
            [
             0.4444444444444444,
             "#bd3786"
            ],
            [
             0.5555555555555556,
             "#d8576b"
            ],
            [
             0.6666666666666666,
             "#ed7953"
            ],
            [
             0.7777777777777778,
             "#fb9f3a"
            ],
            [
             0.8888888888888888,
             "#fdca26"
            ],
            [
             1,
             "#f0f921"
            ]
           ],
           "sequentialminus": [
            [
             0,
             "#0d0887"
            ],
            [
             0.1111111111111111,
             "#46039f"
            ],
            [
             0.2222222222222222,
             "#7201a8"
            ],
            [
             0.3333333333333333,
             "#9c179e"
            ],
            [
             0.4444444444444444,
             "#bd3786"
            ],
            [
             0.5555555555555556,
             "#d8576b"
            ],
            [
             0.6666666666666666,
             "#ed7953"
            ],
            [
             0.7777777777777778,
             "#fb9f3a"
            ],
            [
             0.8888888888888888,
             "#fdca26"
            ],
            [
             1,
             "#f0f921"
            ]
           ]
          },
          "colorway": [
           "#636efa",
           "#EF553B",
           "#00cc96",
           "#ab63fa",
           "#FFA15A",
           "#19d3f3",
           "#FF6692",
           "#B6E880",
           "#FF97FF",
           "#FECB52"
          ],
          "font": {
           "color": "#2a3f5f"
          },
          "geo": {
           "bgcolor": "white",
           "lakecolor": "white",
           "landcolor": "#E5ECF6",
           "showlakes": true,
           "showland": true,
           "subunitcolor": "white"
          },
          "hoverlabel": {
           "align": "left"
          },
          "hovermode": "closest",
          "mapbox": {
           "style": "light"
          },
          "paper_bgcolor": "white",
          "plot_bgcolor": "#E5ECF6",
          "polar": {
           "angularaxis": {
            "gridcolor": "white",
            "linecolor": "white",
            "ticks": ""
           },
           "bgcolor": "#E5ECF6",
           "radialaxis": {
            "gridcolor": "white",
            "linecolor": "white",
            "ticks": ""
           }
          },
          "scene": {
           "xaxis": {
            "backgroundcolor": "#E5ECF6",
            "gridcolor": "white",
            "gridwidth": 2,
            "linecolor": "white",
            "showbackground": true,
            "ticks": "",
            "zerolinecolor": "white"
           },
           "yaxis": {
            "backgroundcolor": "#E5ECF6",
            "gridcolor": "white",
            "gridwidth": 2,
            "linecolor": "white",
            "showbackground": true,
            "ticks": "",
            "zerolinecolor": "white"
           },
           "zaxis": {
            "backgroundcolor": "#E5ECF6",
            "gridcolor": "white",
            "gridwidth": 2,
            "linecolor": "white",
            "showbackground": true,
            "ticks": "",
            "zerolinecolor": "white"
           }
          },
          "shapedefaults": {
           "line": {
            "color": "#2a3f5f"
           }
          },
          "ternary": {
           "aaxis": {
            "gridcolor": "white",
            "linecolor": "white",
            "ticks": ""
           },
           "baxis": {
            "gridcolor": "white",
            "linecolor": "white",
            "ticks": ""
           },
           "bgcolor": "#E5ECF6",
           "caxis": {
            "gridcolor": "white",
            "linecolor": "white",
            "ticks": ""
           }
          },
          "title": {
           "x": 0.05
          },
          "xaxis": {
           "automargin": true,
           "gridcolor": "white",
           "linecolor": "white",
           "ticks": "",
           "title": {
            "standoff": 15
           },
           "zerolinecolor": "white",
           "zerolinewidth": 2
          },
          "yaxis": {
           "automargin": true,
           "gridcolor": "white",
           "linecolor": "white",
           "ticks": "",
           "title": {
            "standoff": 15
           },
           "zerolinecolor": "white",
           "zerolinewidth": 2
          }
         }
        },
        "ternary": {
         "aaxis": {
          "title": {
           "text": "v0"
          }
         },
         "baxis": {
          "title": {
           "text": "v1"
          }
         },
         "caxis": {
          "title": {
           "text": "v2"
          }
         },
         "sum": 1
        },
        "title": {
         "text": "Simplesso 3D per Choice (k=3)"
        }
       }
      },
      "text/html": [
       "<div>                            <div id=\"4a4c0cec-6897-4c0b-8388-9c027aa5cead\" class=\"plotly-graph-div\" style=\"height:525px; width:100%;\"></div>            <script type=\"text/javascript\">                require([\"plotly\"], function(Plotly) {                    window.PLOTLYENV=window.PLOTLYENV || {};                                    if (document.getElementById(\"4a4c0cec-6897-4c0b-8388-9c027aa5cead\")) {                    Plotly.newPlot(                        \"4a4c0cec-6897-4c0b-8388-9c027aa5cead\",                        [{\"a\":[0.0],\"b\":[0.7797852639385838],\"c\":[0.22021473606141617],\"marker\":{\"color\":\"red\",\"size\":12},\"mode\":\"markers\",\"name\":\"Posizione Ottimale\",\"type\":\"scatterternary\"}],                        {\"template\":{\"data\":{\"histogram2dcontour\":[{\"type\":\"histogram2dcontour\",\"colorbar\":{\"outlinewidth\":0,\"ticks\":\"\"},\"colorscale\":[[0.0,\"#0d0887\"],[0.1111111111111111,\"#46039f\"],[0.2222222222222222,\"#7201a8\"],[0.3333333333333333,\"#9c179e\"],[0.4444444444444444,\"#bd3786\"],[0.5555555555555556,\"#d8576b\"],[0.6666666666666666,\"#ed7953\"],[0.7777777777777778,\"#fb9f3a\"],[0.8888888888888888,\"#fdca26\"],[1.0,\"#f0f921\"]]}],\"choropleth\":[{\"type\":\"choropleth\",\"colorbar\":{\"outlinewidth\":0,\"ticks\":\"\"}}],\"histogram2d\":[{\"type\":\"histogram2d\",\"colorbar\":{\"outlinewidth\":0,\"ticks\":\"\"},\"colorscale\":[[0.0,\"#0d0887\"],[0.1111111111111111,\"#46039f\"],[0.2222222222222222,\"#7201a8\"],[0.3333333333333333,\"#9c179e\"],[0.4444444444444444,\"#bd3786\"],[0.5555555555555556,\"#d8576b\"],[0.6666666666666666,\"#ed7953\"],[0.7777777777777778,\"#fb9f3a\"],[0.8888888888888888,\"#fdca26\"],[1.0,\"#f0f921\"]]}],\"heatmap\":[{\"type\":\"heatmap\",\"colorbar\":{\"outlinewidth\":0,\"ticks\":\"\"},\"colorscale\":[[0.0,\"#0d0887\"],[0.1111111111111111,\"#46039f\"],[0.2222222222222222,\"#7201a8\"],[0.3333333333333333,\"#9c179e\"],[0.4444444444444444,\"#bd3786\"],[0.5555555555555556,\"#d8576b\"],[0.6666666666666666,\"#ed7953\"],[0.7777777777777778,\"#fb9f3a\"],[0.8888888888888888,\"#fdca26\"],[1.0,\"#f0f921\"]]}],\"heatmapgl\":[{\"type\":\"heatmapgl\",\"colorbar\":{\"outlinewidth\":0,\"ticks\":\"\"},\"colorscale\":[[0.0,\"#0d0887\"],[0.1111111111111111,\"#46039f\"],[0.2222222222222222,\"#7201a8\"],[0.3333333333333333,\"#9c179e\"],[0.4444444444444444,\"#bd3786\"],[0.5555555555555556,\"#d8576b\"],[0.6666666666666666,\"#ed7953\"],[0.7777777777777778,\"#fb9f3a\"],[0.8888888888888888,\"#fdca26\"],[1.0,\"#f0f921\"]]}],\"contourcarpet\":[{\"type\":\"contourcarpet\",\"colorbar\":{\"outlinewidth\":0,\"ticks\":\"\"}}],\"contour\":[{\"type\":\"contour\",\"colorbar\":{\"outlinewidth\":0,\"ticks\":\"\"},\"colorscale\":[[0.0,\"#0d0887\"],[0.1111111111111111,\"#46039f\"],[0.2222222222222222,\"#7201a8\"],[0.3333333333333333,\"#9c179e\"],[0.4444444444444444,\"#bd3786\"],[0.5555555555555556,\"#d8576b\"],[0.6666666666666666,\"#ed7953\"],[0.7777777777777778,\"#fb9f3a\"],[0.8888888888888888,\"#fdca26\"],[1.0,\"#f0f921\"]]}],\"surface\":[{\"type\":\"surface\",\"colorbar\":{\"outlinewidth\":0,\"ticks\":\"\"},\"colorscale\":[[0.0,\"#0d0887\"],[0.1111111111111111,\"#46039f\"],[0.2222222222222222,\"#7201a8\"],[0.3333333333333333,\"#9c179e\"],[0.4444444444444444,\"#bd3786\"],[0.5555555555555556,\"#d8576b\"],[0.6666666666666666,\"#ed7953\"],[0.7777777777777778,\"#fb9f3a\"],[0.8888888888888888,\"#fdca26\"],[1.0,\"#f0f921\"]]}],\"mesh3d\":[{\"type\":\"mesh3d\",\"colorbar\":{\"outlinewidth\":0,\"ticks\":\"\"}}],\"scatter\":[{\"fillpattern\":{\"fillmode\":\"overlay\",\"size\":10,\"solidity\":0.2},\"type\":\"scatter\"}],\"parcoords\":[{\"type\":\"parcoords\",\"line\":{\"colorbar\":{\"outlinewidth\":0,\"ticks\":\"\"}}}],\"scatterpolargl\":[{\"type\":\"scatterpolargl\",\"marker\":{\"colorbar\":{\"outlinewidth\":0,\"ticks\":\"\"}}}],\"bar\":[{\"error_x\":{\"color\":\"#2a3f5f\"},\"error_y\":{\"color\":\"#2a3f5f\"},\"marker\":{\"line\":{\"color\":\"#E5ECF6\",\"width\":0.5},\"pattern\":{\"fillmode\":\"overlay\",\"size\":10,\"solidity\":0.2}},\"type\":\"bar\"}],\"scattergeo\":[{\"type\":\"scattergeo\",\"marker\":{\"colorbar\":{\"outlinewidth\":0,\"ticks\":\"\"}}}],\"scatterpolar\":[{\"type\":\"scatterpolar\",\"marker\":{\"colorbar\":{\"outlinewidth\":0,\"ticks\":\"\"}}}],\"histogram\":[{\"marker\":{\"pattern\":{\"fillmode\":\"overlay\",\"size\":10,\"solidity\":0.2}},\"type\":\"histogram\"}],\"scattergl\":[{\"type\":\"scattergl\",\"marker\":{\"colorbar\":{\"outlinewidth\":0,\"ticks\":\"\"}}}],\"scatter3d\":[{\"type\":\"scatter3d\",\"line\":{\"colorbar\":{\"outlinewidth\":0,\"ticks\":\"\"}},\"marker\":{\"colorbar\":{\"outlinewidth\":0,\"ticks\":\"\"}}}],\"scattermapbox\":[{\"type\":\"scattermapbox\",\"marker\":{\"colorbar\":{\"outlinewidth\":0,\"ticks\":\"\"}}}],\"scatterternary\":[{\"type\":\"scatterternary\",\"marker\":{\"colorbar\":{\"outlinewidth\":0,\"ticks\":\"\"}}}],\"scattercarpet\":[{\"type\":\"scattercarpet\",\"marker\":{\"colorbar\":{\"outlinewidth\":0,\"ticks\":\"\"}}}],\"carpet\":[{\"aaxis\":{\"endlinecolor\":\"#2a3f5f\",\"gridcolor\":\"white\",\"linecolor\":\"white\",\"minorgridcolor\":\"white\",\"startlinecolor\":\"#2a3f5f\"},\"baxis\":{\"endlinecolor\":\"#2a3f5f\",\"gridcolor\":\"white\",\"linecolor\":\"white\",\"minorgridcolor\":\"white\",\"startlinecolor\":\"#2a3f5f\"},\"type\":\"carpet\"}],\"table\":[{\"cells\":{\"fill\":{\"color\":\"#EBF0F8\"},\"line\":{\"color\":\"white\"}},\"header\":{\"fill\":{\"color\":\"#C8D4E3\"},\"line\":{\"color\":\"white\"}},\"type\":\"table\"}],\"barpolar\":[{\"marker\":{\"line\":{\"color\":\"#E5ECF6\",\"width\":0.5},\"pattern\":{\"fillmode\":\"overlay\",\"size\":10,\"solidity\":0.2}},\"type\":\"barpolar\"}],\"pie\":[{\"automargin\":true,\"type\":\"pie\"}]},\"layout\":{\"autotypenumbers\":\"strict\",\"colorway\":[\"#636efa\",\"#EF553B\",\"#00cc96\",\"#ab63fa\",\"#FFA15A\",\"#19d3f3\",\"#FF6692\",\"#B6E880\",\"#FF97FF\",\"#FECB52\"],\"font\":{\"color\":\"#2a3f5f\"},\"hovermode\":\"closest\",\"hoverlabel\":{\"align\":\"left\"},\"paper_bgcolor\":\"white\",\"plot_bgcolor\":\"#E5ECF6\",\"polar\":{\"bgcolor\":\"#E5ECF6\",\"angularaxis\":{\"gridcolor\":\"white\",\"linecolor\":\"white\",\"ticks\":\"\"},\"radialaxis\":{\"gridcolor\":\"white\",\"linecolor\":\"white\",\"ticks\":\"\"}},\"ternary\":{\"bgcolor\":\"#E5ECF6\",\"aaxis\":{\"gridcolor\":\"white\",\"linecolor\":\"white\",\"ticks\":\"\"},\"baxis\":{\"gridcolor\":\"white\",\"linecolor\":\"white\",\"ticks\":\"\"},\"caxis\":{\"gridcolor\":\"white\",\"linecolor\":\"white\",\"ticks\":\"\"}},\"coloraxis\":{\"colorbar\":{\"outlinewidth\":0,\"ticks\":\"\"}},\"colorscale\":{\"sequential\":[[0.0,\"#0d0887\"],[0.1111111111111111,\"#46039f\"],[0.2222222222222222,\"#7201a8\"],[0.3333333333333333,\"#9c179e\"],[0.4444444444444444,\"#bd3786\"],[0.5555555555555556,\"#d8576b\"],[0.6666666666666666,\"#ed7953\"],[0.7777777777777778,\"#fb9f3a\"],[0.8888888888888888,\"#fdca26\"],[1.0,\"#f0f921\"]],\"sequentialminus\":[[0.0,\"#0d0887\"],[0.1111111111111111,\"#46039f\"],[0.2222222222222222,\"#7201a8\"],[0.3333333333333333,\"#9c179e\"],[0.4444444444444444,\"#bd3786\"],[0.5555555555555556,\"#d8576b\"],[0.6666666666666666,\"#ed7953\"],[0.7777777777777778,\"#fb9f3a\"],[0.8888888888888888,\"#fdca26\"],[1.0,\"#f0f921\"]],\"diverging\":[[0,\"#8e0152\"],[0.1,\"#c51b7d\"],[0.2,\"#de77ae\"],[0.3,\"#f1b6da\"],[0.4,\"#fde0ef\"],[0.5,\"#f7f7f7\"],[0.6,\"#e6f5d0\"],[0.7,\"#b8e186\"],[0.8,\"#7fbc41\"],[0.9,\"#4d9221\"],[1,\"#276419\"]]},\"xaxis\":{\"gridcolor\":\"white\",\"linecolor\":\"white\",\"ticks\":\"\",\"title\":{\"standoff\":15},\"zerolinecolor\":\"white\",\"automargin\":true,\"zerolinewidth\":2},\"yaxis\":{\"gridcolor\":\"white\",\"linecolor\":\"white\",\"ticks\":\"\",\"title\":{\"standoff\":15},\"zerolinecolor\":\"white\",\"automargin\":true,\"zerolinewidth\":2},\"scene\":{\"xaxis\":{\"backgroundcolor\":\"#E5ECF6\",\"gridcolor\":\"white\",\"linecolor\":\"white\",\"showbackground\":true,\"ticks\":\"\",\"zerolinecolor\":\"white\",\"gridwidth\":2},\"yaxis\":{\"backgroundcolor\":\"#E5ECF6\",\"gridcolor\":\"white\",\"linecolor\":\"white\",\"showbackground\":true,\"ticks\":\"\",\"zerolinecolor\":\"white\",\"gridwidth\":2},\"zaxis\":{\"backgroundcolor\":\"#E5ECF6\",\"gridcolor\":\"white\",\"linecolor\":\"white\",\"showbackground\":true,\"ticks\":\"\",\"zerolinecolor\":\"white\",\"gridwidth\":2}},\"shapedefaults\":{\"line\":{\"color\":\"#2a3f5f\"}},\"annotationdefaults\":{\"arrowcolor\":\"#2a3f5f\",\"arrowhead\":0,\"arrowwidth\":1},\"geo\":{\"bgcolor\":\"white\",\"landcolor\":\"#E5ECF6\",\"subunitcolor\":\"white\",\"showland\":true,\"showlakes\":true,\"lakecolor\":\"white\"},\"title\":{\"x\":0.05},\"mapbox\":{\"style\":\"light\"}}},\"ternary\":{\"sum\":1,\"aaxis\":{\"title\":{\"text\":\"v0\"}},\"baxis\":{\"title\":{\"text\":\"v1\"}},\"caxis\":{\"title\":{\"text\":\"v2\"}}},\"title\":{\"text\":\"Simplesso 3D per Choice (k=3)\"}},                        {\"responsive\": true}                    ).then(function(){\n",
       "                            \n",
       "var gd = document.getElementById('4a4c0cec-6897-4c0b-8388-9c027aa5cead');\n",
       "var x = new MutationObserver(function (mutations, observer) {{\n",
       "        var display = window.getComputedStyle(gd).display;\n",
       "        if (!display || display === 'none') {{\n",
       "            console.log([gd, 'removed!']);\n",
       "            Plotly.purge(gd);\n",
       "            observer.disconnect();\n",
       "        }}\n",
       "}});\n",
       "\n",
       "// Listen for the removal of the full notebook cells\n",
       "var notebookContainer = gd.closest('#notebook-container');\n",
       "if (notebookContainer) {{\n",
       "    x.observe(notebookContainer, {childList: true});\n",
       "}}\n",
       "\n",
       "// Listen for the clearing of the current output cell\n",
       "var outputEl = gd.closest('.output');\n",
       "if (outputEl) {{\n",
       "    x.observe(outputEl, {childList: true});\n",
       "}}\n",
       "\n",
       "                        })                };                });            </script>        </div>"
      ]
     },
     "metadata": {},
     "output_type": "display_data"
    }
   ],
   "source": [
    "import plotly.graph_objects as go\n",
    "best_position_choice = np.append(0, best_position_choice)  # Aggiungi lo 0 iniziale (v0 = 0)\n",
    "best_position_choice = best_position_choice / best_position_choice.sum()  # Normalizza\n",
    "\n",
    "# Vertici del simplesso 3D\n",
    "vertices = np.array([\n",
    "    [1, 0, 0],\n",
    "    [0, 1, 0],\n",
    "    [0, 0, 1]\n",
    "])\n",
    "\n",
    "# Plot ternario\n",
    "fig = go.Figure(go.Scatterternary({\n",
    "    'mode': 'markers',\n",
    "    'a': [best_position_choice[0]],\n",
    "    'b': [best_position_choice[1]],\n",
    "    'c': [best_position_choice[2]],\n",
    "    'marker': {'color': 'red', 'size': 12},\n",
    "    'name': 'Posizione Ottimale'\n",
    "}))\n",
    "\n",
    "fig.update_layout({\n",
    "    'title': 'Simplesso 3D per Choice (k=3)',\n",
    "    'ternary': {\n",
    "        'sum': 1,\n",
    "        'aaxis': {'title': 'v0'},\n",
    "        'baxis': {'title': 'v1'},\n",
    "        'caxis': {'title': 'v2'}\n",
    "    }\n",
    "})\n",
    "\n",
    "fig.show()\n"
   ]
  },
  {
   "cell_type": "markdown",
   "id": "d9badb54",
   "metadata": {},
   "source": [
    "# Multiple Run"
   ]
  },
  {
   "cell_type": "markdown",
   "id": "9a50055a",
   "metadata": {},
   "source": [
    "## Confronto Preference/Choice"
   ]
  },
  {
   "cell_type": "code",
   "execution_count": 31,
   "id": "ce81de7a",
   "metadata": {},
   "outputs": [
    {
     "data": {
      "image/png": "[encoded data removed]",
      "text/plain": [
       "<Figure size 1000x600 with 1 Axes>"
      ]
     },
     "metadata": {},
     "output_type": "display_data"
    }
   ],
   "source": [
    "# multiple run\n",
    "n_runs = 5\n",
    "preference_scores = []\n",
    "choice_scores = []\n",
    "\n",
    "for _ in range(n_runs):\n",
    "    # Preference\n",
    "    pso_pref = SimplexPSO(n_particles=30, dim=np.math.factorial(k)-1, objective_func=Preference, max_iter=100)\n",
    "    _, score_pref, _ = pso_pref.optimize()\n",
    "    preference_scores.append(score_pref)\n",
    "    \n",
    "    # Choice\n",
    "    pso_choice = SimplexPSO(n_particles=30, dim=k-1, objective_func=Choice, max_iter=100)\n",
    "    _, score_choice, _ = pso_choice.optimize()\n",
    "    choice_scores.append(score_choice)\n",
    "\n",
    "# Boxplot\n",
    "plt.figure(figsize=(10, 6))\n",
    "plt.boxplot([preference_scores, choice_scores], labels=['Preference', 'Choice'])\n",
    "plt.title('Confronto Punteggi tra Preference e Choice')\n",
    "plt.ylabel('Score')\n",
    "plt.grid(True)\n",
    "plt.show()"
   ]
  },
  {
   "cell_type": "code",
   "execution_count": null,
   "id": "92a5d5c0",
   "metadata": {},
   "outputs": [],
   "source": []
  }
 ],
 "metadata": {
  "kernelspec": {
   "display_name": "Python 3 (ipykernel)",
   "language": "python",
   "name": "python3"
  },
  "language_info": {
   "codemirror_mode": {
    "name": "ipython",
    "version": 3
   },
   "file_extension": ".py",
   "mimetype": "text/x-python",
   "name": "python",
   "nbconvert_exporter": "python",
   "pygments_lexer": "ipython3",
   "version": "3.10.9"
  }
 },
 "nbformat": 4,
 "nbformat_minor": 5
}
